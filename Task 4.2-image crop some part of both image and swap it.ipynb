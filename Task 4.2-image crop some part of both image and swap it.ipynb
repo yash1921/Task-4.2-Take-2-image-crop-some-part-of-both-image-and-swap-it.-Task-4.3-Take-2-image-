{
 "cells": [
  {
   "cell_type": "code",
   "execution_count": null,
   "id": "09d7f933",
   "metadata": {},
   "outputs": [],
   "source": [
    "#🔅 Task 4.2\n",
    "#📌 Take 2 image crop some part of both image and swap it. \n",
    "\n",
    "#🔅 Task 4.3\n",
    "#📌 Take 2 image and combine it to form single image. For example collage "
   ]
  },
  {
   "cell_type": "code",
   "execution_count": 1,
   "id": "059155b1",
   "metadata": {},
   "outputs": [
    {
     "ename": "error",
     "evalue": "OpenCV(4.5.2) C:\\Users\\runneradmin\\AppData\\Local\\Temp\\pip-req-build-ttbyx0jz\\opencv\\modules\\imgproc\\src\\resize.cpp:4051: error: (-215:Assertion failed) !ssize.empty() in function 'cv::resize'\n",
     "output_type": "error",
     "traceback": [
      "\u001b[1;31m---------------------------------------------------------------------------\u001b[0m",
      "\u001b[1;31merror\u001b[0m                                     Traceback (most recent call last)",
      "\u001b[1;32m<ipython-input-1-648723136bc5>\u001b[0m in \u001b[0;36m<module>\u001b[1;34m\u001b[0m\n\u001b[0;32m      4\u001b[0m \u001b[0mphoto1\u001b[0m \u001b[1;33m=\u001b[0m \u001b[0mcv2\u001b[0m\u001b[1;33m.\u001b[0m\u001b[0mimread\u001b[0m\u001b[1;33m(\u001b[0m\u001b[1;34m\"cat.jpg\"\u001b[0m\u001b[1;33m)\u001b[0m\u001b[1;33m\u001b[0m\u001b[1;33m\u001b[0m\u001b[0m\n\u001b[0;32m      5\u001b[0m \u001b[1;31m#resized it for ease of use\u001b[0m\u001b[1;33m\u001b[0m\u001b[1;33m\u001b[0m\u001b[1;33m\u001b[0m\u001b[0m\n\u001b[1;32m----> 6\u001b[1;33m \u001b[0mphoto1\u001b[0m \u001b[1;33m=\u001b[0m \u001b[0mcv2\u001b[0m\u001b[1;33m.\u001b[0m\u001b[0mresize\u001b[0m\u001b[1;33m(\u001b[0m\u001b[0mphoto1\u001b[0m \u001b[1;33m,\u001b[0m \u001b[1;33m(\u001b[0m \u001b[1;36m400\u001b[0m \u001b[1;33m,\u001b[0m\u001b[1;36m400\u001b[0m \u001b[1;33m)\u001b[0m\u001b[1;33m)\u001b[0m\u001b[1;33m\u001b[0m\u001b[1;33m\u001b[0m\u001b[0m\n\u001b[0m\u001b[0;32m      7\u001b[0m \u001b[0mcv2\u001b[0m\u001b[1;33m.\u001b[0m\u001b[0mimshow\u001b[0m\u001b[1;33m(\u001b[0m\u001b[1;34m\"Img1\"\u001b[0m\u001b[1;33m,\u001b[0m\u001b[0mphoto1\u001b[0m\u001b[1;33m)\u001b[0m\u001b[1;33m\u001b[0m\u001b[1;33m\u001b[0m\u001b[0m\n\u001b[0;32m      8\u001b[0m \u001b[1;32mif\u001b[0m \u001b[0mcv2\u001b[0m\u001b[1;33m.\u001b[0m\u001b[0mwaitKey\u001b[0m\u001b[1;33m(\u001b[0m\u001b[1;33m)\u001b[0m \u001b[1;33m==\u001b[0m \u001b[1;36m13\u001b[0m\u001b[1;33m:\u001b[0m\u001b[1;33m\u001b[0m\u001b[1;33m\u001b[0m\u001b[0m\n",
      "\u001b[1;31merror\u001b[0m: OpenCV(4.5.2) C:\\Users\\runneradmin\\AppData\\Local\\Temp\\pip-req-build-ttbyx0jz\\opencv\\modules\\imgproc\\src\\resize.cpp:4051: error: (-215:Assertion failed) !ssize.empty() in function 'cv::resize'\n"
     ]
    }
   ],
   "source": [
    "import cv2 ,numpy\n",
    "\n",
    "#original cat image\n",
    "photo1 = cv2.imread(\"cat.jpg\")\n",
    "#resized it for ease of use\n",
    "photo1 = cv2.resize(photo1 , ( 400 ,400 ))\n",
    "cv2.imshow(\"Img1\",photo1)\n",
    "if cv2.waitKey() == 13:\n",
    "    pass\n",
    "cv2.destroyAllWindows()"
   ]
  },
  {
   "cell_type": "code",
   "execution_count": 2,
   "id": "59151f47",
   "metadata": {},
   "outputs": [
    {
     "ename": "error",
     "evalue": "OpenCV(4.5.2) C:\\Users\\runneradmin\\AppData\\Local\\Temp\\pip-req-build-ttbyx0jz\\opencv\\modules\\imgproc\\src\\resize.cpp:4051: error: (-215:Assertion failed) !ssize.empty() in function 'cv::resize'\n",
     "output_type": "error",
     "traceback": [
      "\u001b[1;31m---------------------------------------------------------------------------\u001b[0m",
      "\u001b[1;31merror\u001b[0m                                     Traceback (most recent call last)",
      "\u001b[1;32m<ipython-input-2-4380e54eb99e>\u001b[0m in \u001b[0;36m<module>\u001b[1;34m\u001b[0m\n\u001b[0;32m      1\u001b[0m \u001b[1;31m#original tigers image\u001b[0m\u001b[1;33m\u001b[0m\u001b[1;33m\u001b[0m\u001b[1;33m\u001b[0m\u001b[0m\n\u001b[0;32m      2\u001b[0m \u001b[0mphoto2\u001b[0m \u001b[1;33m=\u001b[0m \u001b[0mcv2\u001b[0m\u001b[1;33m.\u001b[0m\u001b[0mimread\u001b[0m\u001b[1;33m(\u001b[0m\u001b[1;34m\"tiger.jpg\"\u001b[0m\u001b[1;33m)\u001b[0m\u001b[1;33m\u001b[0m\u001b[1;33m\u001b[0m\u001b[0m\n\u001b[1;32m----> 3\u001b[1;33m \u001b[0mphoto2\u001b[0m \u001b[1;33m=\u001b[0m \u001b[0mcv2\u001b[0m\u001b[1;33m.\u001b[0m\u001b[0mresize\u001b[0m\u001b[1;33m(\u001b[0m\u001b[0mphoto2\u001b[0m \u001b[1;33m,\u001b[0m \u001b[1;33m(\u001b[0m \u001b[1;36m400\u001b[0m \u001b[1;33m,\u001b[0m\u001b[1;36m400\u001b[0m \u001b[1;33m)\u001b[0m\u001b[1;33m)\u001b[0m\u001b[1;33m\u001b[0m\u001b[1;33m\u001b[0m\u001b[0m\n\u001b[0m\u001b[0;32m      4\u001b[0m \u001b[1;33m\u001b[0m\u001b[0m\n\u001b[0;32m      5\u001b[0m \u001b[1;33m\u001b[0m\u001b[0m\n",
      "\u001b[1;31merror\u001b[0m: OpenCV(4.5.2) C:\\Users\\runneradmin\\AppData\\Local\\Temp\\pip-req-build-ttbyx0jz\\opencv\\modules\\imgproc\\src\\resize.cpp:4051: error: (-215:Assertion failed) !ssize.empty() in function 'cv::resize'\n"
     ]
    }
   ],
   "source": [
    "#original tigers image\n",
    "photo2 = cv2.imread(\"tiger.jpg\")\n",
    "photo2 = cv2.resize(photo2 , ( 400 ,400 ))\n",
    "\n",
    "\n",
    "cv2.imshow(\"Img1\",photo2)\n",
    "if cv2.waitKey() == 13:\n",
    "    pass\n",
    "cv2.destroyAllWindows()"
   ]
  },
  {
   "cell_type": "code",
   "execution_count": null,
   "id": "7c41117d",
   "metadata": {},
   "outputs": [],
   "source": [
    "#horizontaly added image\n",
    "himg1 = numpy.hstack((photo1 , photo2))\n",
    "cv2.imshow(\"Img1\",himg1)\n",
    "if cv2.waitKey() == 13:\n",
    "    pass\n",
    "cv2.destroyAllWindows()"
   ]
  },
  {
   "cell_type": "code",
   "execution_count": null,
   "id": "519d2701",
   "metadata": {},
   "outputs": [],
   "source": [
    "#verticaly added image\n",
    "vimg1 = numpy.vstack((photo1 , photo2))\n",
    "cv2.imshow(\"Img1\",vimg1)\n",
    "if cv2.waitKey() == 13:\n",
    "    pass\n",
    "cv2.destroyAllWindows()"
   ]
  },
  {
   "cell_type": "code",
   "execution_count": null,
   "id": "bf21f96f",
   "metadata": {},
   "outputs": [],
   "source": [
    "#croped cats's face\n",
    "cimg1 = photo1[45:270, 35:265 , : ]\n",
    "print(cimg1.shape)\n",
    "cimg1 = cv2.resize(cimg1 , (255 , 270  ))\n",
    "cv2.imshow(\"Img1\",cimg1)\n",
    "if cv2.waitKey() == 13:\n",
    "    pass\n",
    "cv2.destroyAllWindows() \n",
    "\n",
    "print(cimg1.shape)"
   ]
  },
  {
   "cell_type": "code",
   "execution_count": null,
   "id": "76bf6ee1",
   "metadata": {},
   "outputs": [],
   "source": [
    "#croped tigers's face\n",
    "cimg2 = photo2[40:310, 90:345 , : ]\n",
    "print(cimg2.shape)\n",
    "cimg2 = cv2.resize(cimg2 , (230, 225  ))\n",
    "cv2.imshow(\"Img1\",cimg2)\n",
    "if cv2.waitKey() == 13:\n",
    "    pass\n",
    "cv2.destroyAllWindows() \n",
    "print(cimg2.shape)"
   ]
  },
  {
   "cell_type": "code",
   "execution_count": null,
   "id": "654900bc",
   "metadata": {},
   "outputs": [],
   "source": [
    "#put tigers face on cat's face\n",
    "finalimg1 = photo1\n",
    "finalimg1[45:270, 35:265 , : ]= cimg2[:,:,:]\n",
    " \n",
    "cv2.imshow(\"Img1\",finalimg1)\n",
    "if cv2.waitKey() == 13:\n",
    "    pass\n",
    "cv2.destroyAllWindows() \n",
    "\n",
    "cv2.destroyAllWindows()"
   ]
  },
  {
   "cell_type": "code",
   "execution_count": null,
   "id": "dfc1cb82",
   "metadata": {},
   "outputs": [],
   "source": [
    "#put tigers face on cat's face\n",
    "finalimg2 = photo2\n",
    "finalimg2[40:310, 90:345 , : ]= cimg1[:,:,:]\n",
    "\n",
    "cv2.imshow(\"Img1\",finalimg2)\n",
    "if cv2.waitKey() == 13:\n",
    "    pass\n",
    "cv2.destroyAllWindows()"
   ]
  },
  {
   "cell_type": "code",
   "execution_count": null,
   "id": "a1559c87",
   "metadata": {},
   "outputs": [],
   "source": [
    "himg2 = numpy.hstack(( finalimg1 , finalimg2 ))\n",
    "cv2.imshow(\"Img1\",himg2)\n",
    "if cv2.waitKey() == 13:\n",
    "    pass\n",
    "cv2.destroyAllWindows()"
   ]
  },
  {
   "cell_type": "code",
   "execution_count": null,
   "id": "46a3dd2f",
   "metadata": {},
   "outputs": [],
   "source": [
    "vimg = numpy.vstack((himg1,himg2))\n",
    "cv2.imshow(\"Img1\",vimg)\n",
    "if cv2.waitKey() == 13:\n",
    "    pass\n",
    "cv2.destroyAllWindows()"
   ]
  },
  {
   "cell_type": "code",
   "execution_count": null,
   "id": "5745eafe",
   "metadata": {},
   "outputs": [],
   "source": [
    "import cv2 , numpy\n",
    "#original cat image\n",
    "photo1 = cv2.imread(\"cat.jpg\")\n",
    "photo1 = cv2.resize(photo1 , ( 400 ,400 ))\n",
    "\n",
    "#original tigers image\n",
    "photo2 = cv2.imread(\"tiger.jpg\")\n",
    "photo2 = cv2.resize(photo2 , ( 400 ,400 ))\n",
    "\n",
    "#original cat image\n",
    "photo1 = cv2.imread(\"cat.jpg\")\n",
    "#resized it for ease of use\n",
    "photo1 = cv2.resize(photo1 , ( 400 ,400 ))\n",
    "cv2.imshow(\"Img1\",photo1)\n",
    "if cv2.waitKey() == 13:\n",
    "    pass\n",
    "cv2.destroyAllWindows() \n",
    "\n",
    "\n",
    "\n",
    "#original tigers image\n",
    "photo2 = cv2.imread(\"tiger.jpg\")\n",
    "photo2 = cv2.resize(photo2 , ( 400 ,400 ))\n",
    "cv2.imshow(\"Img1\",photo2)\n",
    "if cv2.waitKey() == 13:\n",
    "    pass\n",
    "cv2.destroyAllWindows() \n",
    "\n",
    "#verticaly added image\n",
    "vimg1 = numpy.vstack((photo1 , photo2))\n",
    "cv2.imshow(\"Img1\",vimg1)\n",
    "if cv2.waitKey() == 13:\n",
    "    pass\n",
    "cv2.destroyAllWindows() \n",
    "\n",
    "#horizontaly added image\n",
    "\n",
    "himg1 = numpy.hstack((photo1 , photo2))\n",
    "cv2.imshow(\"Img1\",himg1)\n",
    "if cv2.waitKey() == 13:\n",
    "    pass\n",
    "cv2.destroyAllWindows() \n",
    "\n",
    "#croped cat's face\n",
    "cimg1 = photo1[45:270, 35:265 , : ]\n",
    "cimg1 = cv2.resize(cimg1 , (255 , 270  ))\n",
    "\n",
    "\n",
    "#croped tigers's face\n",
    "cimg2 = photo2[40:310, 90:345 , : ]\n",
    "print(cimg2.shape)\n",
    "cimg2 = cv2.resize(cimg2 , (230, 225  ))\n",
    "\n",
    "#put tigers face on cat's face\n",
    "finalimg1 = photo1\n",
    "finalimg1[45:270, 35:265 , : ]= cimg2[:,:,:]\n",
    "cv2.imshow(\"Img1\",finalimg1)\n",
    "if cv2.waitKey() == 13:\n",
    "    pass\n",
    "cv2.destroyAllWindows() \n",
    "\n",
    "\n",
    "#put tigers face on cat's face\n",
    "finalimg2 = photo2\n",
    "finalimg2[40:310, 90:345 , : ]= cimg1[:,:,:]\n",
    "cv2.imshow(\"Img1\",finalimg2)\n",
    "if cv2.waitKey() == 13:\n",
    "    pass\n",
    "cv2.destroyAllWindows() \n",
    "\n",
    "himg2 = numpy.hstack(( finalimg1 , finalimg2 ))\n",
    "cv2.imshow(\"Img1\",himg2)\n",
    "if cv2.waitKey() == 13:\n",
    "    pass\n",
    "cv2.destroyAllWindows() \n",
    "\n",
    "vimg = numpy.vstack((himg1,himg2))\n",
    "cv2.imshow(\"Img1\",vimg)\n",
    "if cv2.waitKey() == 13:\n",
    "    pass\n",
    "cv2.destroyAllWindows()\n"
   ]
  }
 ],
 "metadata": {
  "kernelspec": {
   "display_name": "Python 3",
   "language": "python",
   "name": "python3"
  },
  "language_info": {
   "codemirror_mode": {
    "name": "ipython",
    "version": 3
   },
   "file_extension": ".py",
   "mimetype": "text/x-python",
   "name": "python",
   "nbconvert_exporter": "python",
   "pygments_lexer": "ipython3",
   "version": "3.9.5"
  }
 },
 "nbformat": 4,
 "nbformat_minor": 5
}
